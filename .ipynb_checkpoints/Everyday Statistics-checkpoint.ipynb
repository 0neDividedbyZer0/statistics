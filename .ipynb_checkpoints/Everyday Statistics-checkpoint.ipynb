{
 "cells": [
  {
   "cell_type": "code",
   "execution_count": 1,
   "metadata": {},
   "outputs": [],
   "source": [
    "import numpy as np\n",
    "from scipy.stats import norm\n",
    "from scipy.stats import t\n",
    "from scipy.stats import chi2\n",
    "import seaborn as sns\n",
    "import statsmodels.graphics.gofplots as sm\n",
    "import scipy.stats as sp\n",
    "import pandas as pd\n",
    "import math\n",
    "import sklearn as skl\n",
    "import random as rand\n",
    "import time\n",
    "import matplotlib.pyplot as plt\n",
    "import statistics as stats"
   ]
  },
  {
   "cell_type": "markdown",
   "metadata": {},
   "source": [
    "# Heights Experiment\n",
    "To get a good grasp on fundamentals, we are going to be working with randomly generated population distributions so I can finally distinguish between the concepts of Sample Distribution, Sampling Distribution, and Population Distribution and finally understand Inferential Statistics"
   ]
  },
  {
   "cell_type": "code",
   "execution_count": 2,
   "metadata": {},
   "outputs": [],
   "source": [
    "rand.seed(1623362164)\n",
    "pop = [round(rand.gauss(63, 3), 1) for i in range(600)]\n",
    "#outliers\n",
    "pop.extend([round(rand.gauss(50, 0.8), 1) for i in range(20)])\n",
    "pop.extend([round(rand.gauss(72, 0.4), 1) for i in range(10)])\n",
    "pop.sort()"
   ]
  },
  {
   "cell_type": "markdown",
   "metadata": {},
   "source": [
    "# Population Distribution\n",
    "Basically, this is impossible to know in almost all practical cases. This is here to just get an overall idea of the population distribution for comparison with the sampling and sample distributions"
   ]
  },
  {
   "cell_type": "code",
   "execution_count": 3,
   "metadata": {},
   "outputs": [
    {
     "data": {
      "text/plain": [
       "(array([ 1.,  8., 10.,  2.,  0.,  0.,  0.,  3.,  1.,  1.,  7., 13., 20.,\n",
       "        34., 30., 51., 52., 70., 70., 58., 62., 36., 30., 27., 17.,  8.,\n",
       "         5.,  3.,  1., 10.]),\n",
       " array([48.5       , 49.29333333, 50.08666667, 50.88      , 51.67333333,\n",
       "        52.46666667, 53.26      , 54.05333333, 54.84666667, 55.64      ,\n",
       "        56.43333333, 57.22666667, 58.02      , 58.81333333, 59.60666667,\n",
       "        60.4       , 61.19333333, 61.98666667, 62.78      , 63.57333333,\n",
       "        64.36666667, 65.16      , 65.95333333, 66.74666667, 67.54      ,\n",
       "        68.33333333, 69.12666667, 69.92      , 70.71333333, 71.50666667,\n",
       "        72.3       ]),\n",
       " <BarContainer object of 30 artists>)"
      ]
     },
     "execution_count": 3,
     "metadata": {},
     "output_type": "execute_result"
    },
    {
     "data": {
      "image/png": "[encoded data removed]",
      "text/plain": [
       "<Figure size 432x288 with 1 Axes>"
      ]
     },
     "metadata": {
      "needs_background": "light"
     },
     "output_type": "display_data"
    }
   ],
   "source": [
    "plt.hist(pop, bins=30)\n",
    "# We see this population is roughly normal. In reality, it may very well not be,\n",
    "# But that doesn't matter usually because of the Central Limit theorem applied to the Sampling Distribution\n",
    "# Roughly speaking, say we have a single sample X drawn from this distribution. This means X can take on any\n",
    "# value as drawn in this histogram, in roughly this frequency."
   ]
  },
  {
   "cell_type": "code",
   "execution_count": 4,
   "metadata": {},
   "outputs": [
    {
     "name": "stdout",
     "output_type": "stream",
     "text": [
      "62.68 3.79 14.4\n"
     ]
    }
   ],
   "source": [
    "# Population Mean, standard deviation, variance\n",
    "# Round to two decimals please\n",
    "mu = round(stats.mean(pop), 2)\n",
    "sigma_2 = round(stats.pvariance(pop), 2)\n",
    "sigma = round(stats.pstdev(pop), 2)\n",
    "print(mu, sigma, sigma_2)"
   ]
  },
  {
   "cell_type": "markdown",
   "metadata": {},
   "source": [
    "# Sampling Distribution\n",
    "This is the distribution of sample means. Basically, the random variable X_bar = (X_1 + X_2 + ... + X_N)/N\n",
    "will take on a roughly normal distribution due to Central Limit Theorem. Basically all of inferential stats\n",
    "depends on this distribution, and NOT the population distribution since we almost NEVER know the population\n",
    "distribution"
   ]
  },
  {
   "cell_type": "code",
   "execution_count": 5,
   "metadata": {},
   "outputs": [
    {
     "data": {
      "text/plain": [
       "(array([  2.,  14.,  27.,  53., 107., 217., 318., 344., 452., 473., 410.,\n",
       "        261., 144., 107.,  41.,  23.,   5.,   1.,   0.,   1.]),\n",
       " array([60.96 , 61.156, 61.352, 61.548, 61.744, 61.94 , 62.136, 62.332,\n",
       "        62.528, 62.724, 62.92 , 63.116, 63.312, 63.508, 63.704, 63.9  ,\n",
       "        64.096, 64.292, 64.488, 64.684, 64.88 ]),\n",
       " <BarContainer object of 20 artists>)"
      ]
     },
     "execution_count": 5,
     "metadata": {},
     "output_type": "execute_result"
    },
    {
     "data": {
      "image/png": "[encoded data removed]",
      "text/plain": [
       "<Figure size 432x288 with 1 Axes>"
      ]
     },
     "metadata": {
      "needs_background": "light"
     },
     "output_type": "display_data"
    }
   ],
   "source": [
    "N = 50\n",
    "sampling_dist = [round(stats.mean(rand.sample(pop, k=N)), 2) for i in range(3000)]\n",
    "plt.hist(sampling_dist, bins=20)"
   ]
  },
  {
   "cell_type": "code",
   "execution_count": 6,
   "metadata": {},
   "outputs": [
    {
     "data": {
      "text/plain": [
       "(array([  1.,   0.,   3.,   8.,  14.,  41.,  80., 154., 263., 387., 498.,\n",
       "        484., 459., 307., 191.,  85.,  17.,   5.,   1.,   2.]),\n",
       " array([58.12  , 58.5325, 58.945 , 59.3575, 59.77  , 60.1825, 60.595 ,\n",
       "        61.0075, 61.42  , 61.8325, 62.245 , 62.6575, 63.07  , 63.4825,\n",
       "        63.895 , 64.3075, 64.72  , 65.1325, 65.545 , 65.9575, 66.37  ]),\n",
       " <BarContainer object of 20 artists>)"
      ]
     },
     "execution_count": 6,
     "metadata": {},
     "output_type": "execute_result"
    },
    {
     "data": {
      "image/png": "[encoded data removed]",
      "text/plain": [
       "<Figure size 432x288 with 1 Axes>"
      ]
     },
     "metadata": {
      "needs_background": "light"
     },
     "output_type": "display_data"
    }
   ],
   "source": [
    "# A small sample from a normal distribution allows t-distribution to be applied\n",
    "N_small = 15\n",
    "sampling_dist = [round(stats.mean(rand.sample(pop, k=N_small)), 2) for i in range(3000)]\n",
    "plt.hist(sampling_dist, bins=20)"
   ]
  },
  {
   "cell_type": "markdown",
   "metadata": {},
   "source": [
    "# Sample Distribution\n",
    "Now we're getting to the real statistics. Note: this is not the sampling distribution, as the sampling distribution is based on the mean of a sample for a certain number of samples N"
   ]
  },
  {
   "cell_type": "code",
   "execution_count": 7,
   "metadata": {},
   "outputs": [],
   "source": [
    "# Get an SRS without replacement of the population\n",
    "# This is used when you can't get any reads on population, otherwise, cluster or stratified sampling may be better\n",
    "sample = rand.sample(pop, k=N)\n",
    "small_sample = rand.sample(pop, k=N_small)"
   ]
  },
  {
   "cell_type": "markdown",
   "metadata": {},
   "source": [
    "## Exploratory Statistics\n",
    "Basically, we want to investigate our population distribution, but we only have the sample distribution.\n",
    "Among the most important things we need to do is check visually/test for normality as that unlocks the \n",
    "powers of Gaussian/parametric statistics for us. If we are unable to assume normality, then we must turn\n",
    "to nonparametric methods\n",
    "\n",
    "Though most of this will be in the context of investigating normality, the visualizations are also\n",
    "extraordinarily important for general data visualization"
   ]
  },
  {
   "cell_type": "code",
   "execution_count": 8,
   "metadata": {},
   "outputs": [
    {
     "data": {
      "text/plain": [
       "(array([ 3.,  0.,  1.,  4.,  8., 10., 12.,  8.,  4.]),\n",
       " array([49.9       , 52.06666667, 54.23333333, 56.4       , 58.56666667,\n",
       "        60.73333333, 62.9       , 65.06666667, 67.23333333, 69.4       ]),\n",
       " <BarContainer object of 9 artists>)"
      ]
     },
     "execution_count": 8,
     "metadata": {},
     "output_type": "execute_result"
    },
    {
     "data": {
      "image/png": "[encoded data removed]",
      "text/plain": [
       "<Figure size 432x288 with 1 Axes>"
      ]
     },
     "metadata": {
      "needs_background": "light"
     },
     "output_type": "display_data"
    }
   ],
   "source": [
    "# Descriptive Statistics/Data Exploration\n",
    "# At a minimum:\n",
    "# Graph histogram, get 5-number summary, sample mean, stdev, and mode. Maybe do a box plot\n",
    "# As we have here, we have an outlier in our sample. Perfect. But there is a roughly normal looking distribution sample\n",
    "plt.hist(sample, bins=9)"
   ]
  },
  {
   "cell_type": "code",
   "execution_count": 9,
   "metadata": {},
   "outputs": [
    {
     "name": "stdout",
     "output_type": "stream",
     "text": [
      "[49.9, 60.0, 62.65, 64.65, 69.4] 61.98 4.31\n",
      "[49.8, 59.05, 62.1, 63.349999999999994, 68.1] 61.14 4.44\n"
     ]
    }
   ],
   "source": [
    "def five_num_sum(sample):\n",
    "    Q = np.percentile(sample, [25, 75])\n",
    "    return [min(sample), Q[0], stats.median(sample), Q[1], max(sample)]\n",
    "\n",
    "#five_num_sum(sample)\n",
    "X_bar = round(stats.mean(sample), 2)\n",
    "s = round(stats.stdev(sample), 2)\n",
    "\n",
    "print(five_num_sum(sample), X_bar, s)\n",
    "\n",
    "small_X_bar = round(stats.mean(small_sample), 2)\n",
    "small_s = round(stats.stdev(small_sample), 2)\n",
    "\n",
    "print(five_num_sum(small_sample), small_X_bar, small_s)\n"
   ]
  },
  {
   "cell_type": "markdown",
   "metadata": {},
   "source": [
    "### Tests for Normality\n",
    "There are two categories: visual and significance tests\n",
    "Both are recommended to be done: visual is more ad-hoc but gives greater understanding,\n",
    "significance testing is more rigorous.\n",
    "This and most of what follows is according to the paper: \n",
    "Normality Tests for Statistical Analysis: A Guide for Non-Statisticians\n",
    "\n",
    "First off, if we have N > 30 or 40, we have no fear of nonnormal population distributions, due to the CLT.\n",
    "If you have hundreds of observations, then the population can basically be ignored. According to the CLT,\n",
    "1. If you have a normal population, then samples will be normal\n",
    "2. In large samples of 30-40, you have roughly normal data regardless of the population.\n",
    "3. Means from any distribution are normal\n",
    "\n",
    "#### Visual Methods"
   ]
  },
  {
   "cell_type": "code",
   "execution_count": 10,
   "metadata": {},
   "outputs": [
    {
     "data": {
      "text/plain": [
       "{'whiskers': [<matplotlib.lines.Line2D at 0x546edaeca0>,\n",
       "  <matplotlib.lines.Line2D at 0x546edbb040>],\n",
       " 'caps': [<matplotlib.lines.Line2D at 0x546edbb3a0>,\n",
       "  <matplotlib.lines.Line2D at 0x546edbb700>],\n",
       " 'boxes': [<matplotlib.lines.Line2D at 0x546edae940>],\n",
       " 'medians': [<matplotlib.lines.Line2D at 0x546edbba60>],\n",
       " 'fliers': [<matplotlib.lines.Line2D at 0x546edbbdc0>],\n",
       " 'means': []}"
      ]
     },
     "execution_count": 10,
     "metadata": {},
     "output_type": "execute_result"
    },
    {
     "data": {
      "image/png": "[encoded data removed]",
      "text/plain": [
       "<Figure size 432x288 with 1 Axes>"
      ]
     },
     "metadata": {
      "needs_background": "light"
     },
     "output_type": "display_data"
    }
   ],
   "source": [
    "# Unreliable and doesn't guarantee normality, but can be quickly appreciated and understood by humans\n",
    "# histograms, stem and leaf plot, boxplot, P-P plot, Q-Q plots are good for checking normality\n",
    "# Scores greater than 1.5 times the interquartile range are out of the boxplot and are considered as outliers, \n",
    "# and those greater than 3 times the interquartile range are extreme outliers. A boxplot that is symmetric with \n",
    "# the median line at approximately the center of the box and with symmetric whiskers that are slightly longer \n",
    "# than the subsections of the center box suggests that the data may have come from a normal distribution\n",
    "plt.boxplot(sample, vert=False)\n",
    "# As we see here, we do have roughly normal data,but we have not only outliers, but extreme outliers\n",
    "# This is a pretty poor sample, but thanks to the size, it is usable. For a small sample, outliers\n",
    "# and extremes pretty much ruin data."
   ]
  },
  {
   "cell_type": "code",
   "execution_count": 11,
   "metadata": {},
   "outputs": [
    {
     "data": {
      "image/png": "[encoded data removed]",
      "text/plain": [
       "<Figure size 1080x288 with 3 Axes>"
      ]
     },
     "metadata": {
      "needs_background": "light"
     },
     "output_type": "display_data"
    }
   ],
   "source": [
    "fig, ax = plt.subplots(1, 3, figsize=(15, 4))\n",
    "sns.histplot(sample,kde=True, color ='blue',ax=ax[0])\n",
    "# Need to normalize data as (x - X_bar) / s for QQ plot\n",
    "normalized_sample = [(x - X_bar) / s for x in sample]\n",
    "sm.ProbPlot(np.asarray(normalized_sample)).qqplot(line='s', ax=ax[1])\n",
    "cumulative_prob = [norm.cdf(x) for x in normalized_sample]\n",
    "sm.ProbPlot(np.asarray(cumulative_prob)).ppplot(line='s', ax=ax[2])\n",
    "plt.show()\n",
    "# We compare the QQ plot against the PP plot, and we can see a difference in how to interpret it.\n",
    "# Perhaps the PP plot is more obvious as to whether or not something is normal, but the QQ plot\n",
    "# appears more understandable. "
   ]
  },
  {
   "cell_type": "markdown",
   "metadata": {},
   "source": [
    "#### Normal Significance Tests\n"
   ]
  },
  {
   "cell_type": "code",
   "execution_count": 12,
   "metadata": {},
   "outputs": [
    {
     "data": {
      "text/plain": [
       "KstestResult(statistic=0.11110600678630289, pvalue=0.5311817746087946)"
      ]
     },
     "execution_count": 12,
     "metadata": {},
     "output_type": "execute_result"
    }
   ],
   "source": [
    "# Many tests exist: Kolmogorov-Smirnov (K-S) test, Lilliefors corrected K-S test, Shapiro-Wilk test, \n",
    "# Anderson-Darling test, Cramer-von Mises test, D’Agostino skewness test, Anscombe-Glynn kurtosis test, \n",
    "# D’Agostino-Pearson omnibus test, and the Jarque-Bera test \n",
    "# Shall compare K-S and Shapiro-Wilk as these two are the most popular, the former being the  most popular.\n",
    "# It is recommended to use Shapiro-Wilk as K-S is frequently low in power even with the Lilliefors correction\n",
    "# the K-S test uses the emperical cumulative distribution, and compares the difference between either the \n",
    "# actual cumulative distribution function, or another function's distribution function. It is a nonparametric\n",
    "# test. But it is also low in power, so not recommended. \n",
    "# It is an exact test, so the number of samples does not matter to its validity. But it does have limitations:\n",
    "# 1. only applies to continuous distribution, 2. more sensitive in center than tails, 3. most serious limitation:\n",
    "# requires a fully specified distribution (like one we know or another eCDF), which means it is not estimable.\n",
    "# The statistic is basically the maximum positive difference between each distribution. The KS is most commonly\n",
    "# used for normality, but can apply to any continuous distribution that we know\n",
    "# null hypothesis is that the data follow the given distibution. The alternative is not\n",
    "sp.kstest(sample, lambda x: norm.cdf(x, loc=X_bar, scale=s))"
   ]
  },
  {
   "cell_type": "code",
   "execution_count": 13,
   "metadata": {},
   "outputs": [
    {
     "data": {
      "text/plain": [
       "ShapiroResult(statistic=0.9310274720191956, pvalue=0.006044734735041857)"
      ]
     },
     "execution_count": 13,
     "metadata": {},
     "output_type": "execute_result"
    }
   ],
   "source": [
    "# Shapiro-Wilk Test. It is biased by sample size, the larger it is, the more likely it will find a significant result.\n",
    "# But it has more power than KS. It has some random formula, don't even worry about it because it's complicated and \n",
    "# we mostly monte carlo the distribution anyways.\n",
    "# The H_0 is the data came from a normal distribution\n",
    "sp.shapiro(sample)\n",
    "# Iis correct, the distribution is not normal technically, so I'm rather impresssed"
   ]
  },
  {
   "cell_type": "markdown",
   "metadata": {},
   "source": [
    "# Inferential Statistics\n",
    "Now we'll be doing the real cool stuff"
   ]
  },
  {
   "cell_type": "markdown",
   "metadata": {},
   "source": [
    "## Interval Estimation (for mean)\n",
    "Confidence Intervals, do we have a value that makes sense here for the mean?\n",
    " The idea is that when you calculate a say 95% confidence interval, when you resample\n",
    " 100 times and calculate these 95% confidence intervals, about 95 of the samples'\n",
    " Confidence intervals shall contain the population mean\n",
    " Typically, we want confidence of either 90%, 95%, 99%, or 99.9%, or critical value \n",
    " alpha = 0.1. 0.05, 0.01, 0.001 respectively\n",
    " Now when estimating a point estimator interval that involves a sum like the mean,\n",
    " we can use the CLT to say that the distribution is normal and do all our Gaussian\n",
    " stuff. For N small, this assumption does not hold and we need to use the\n",
    " unique distribution obtained from summing together the samples or however they're \n",
    " combined. Of course, that's a bit hard if you don't even know the population \n",
    " distribution. But when you assume or know that the population distribution is normal,\n",
    " then we have a few things like Chi-squared distribution and the (Student's) t-distribution\n",
    " \n",
    " Now, the confidence interval we are working with is based on the distribution for\n",
    " the estimator, in this case the mean. Thus, with large N, we have a normal \n",
    " distribution and it basically boils down to finding z-scores until \n",
    " P(mu in [lower bound, higher bound]) >= 1 - alpha\n",
    " \n",
    " Note: the misunderstanding of confidence intervals is that there is a 95% chance the\n",
    " calculated interval contains the mean. This is INCORRECT. The 95% refers to the \n",
    " reliability of repeated experimentation, that about 95% of our confidence intervals\n",
    " shall have the true mean somewhere. It is wholly possible for the mean to be completely\n",
    " out of the confidence interval, as once it is calculated, the mean is either inside or\n",
    " out, it is not a matter of probability. Said another way, each confidence interval is\n",
    " like a trial. By Law of Large Numbers, it trends towards containing the true mean\n",
    " 95% percent of the time, but this is not the case for any individual trial."
   ]
  },
  {
   "cell_type": "code",
   "execution_count": 14,
   "metadata": {},
   "outputs": [
    {
     "data": {
      "text/plain": [
       "[60.785350903410574, 63.17464909658942]"
      ]
     },
     "execution_count": 14,
     "metadata": {},
     "output_type": "execute_result"
    }
   ],
   "source": [
    "alpha = 0.05\n",
    "# X_bar ~ Normal(mu, sqrt(1/n)), so normalizing gets us (X_bar - mu)/(1/sqrt(n)) = sqrt(n) * (X_bar - mu) ~ N(0, 1)\n",
    "# Now, you do Z-scores where the tails in total sum up to alpha, so each tail should contain alpha/2. From this\n",
    "# we obtain the general formula: [X_bar - z_alpha/2 * sigma/sqrt(n), X_bar + z_alpha/2 * sigma/sqrt(n)].\n",
    "# Of course, if we have the population stdev, this is easy, otherwise, replace sigma with sample stdev = s\n",
    "# Here, we use s, as we usually don't know the stdev of all people's heights\n",
    "# To obtain z_alpha/2, we have CDF^-1(1-alpha/2)\n",
    "z = norm.ppf(1 - alpha / 2)\n",
    "[X_bar - z * s / math.sqrt(N), X_bar + z * s / math.sqrt(N)]"
   ]
  },
  {
   "cell_type": "code",
   "execution_count": 15,
   "metadata": {},
   "outputs": [
    {
     "data": {
      "text/plain": [
       "[58.893091270098175, 63.386908729901826]"
      ]
     },
     "execution_count": 15,
     "metadata": {},
     "output_type": "execute_result"
    }
   ],
   "source": [
    "# For comparison, this is with the small sample, but this one will actually be incorrect way more often\n",
    "# because it is too narrow at such a small N\n",
    "[small_X_bar - z * small_s / math.sqrt(N_small), small_X_bar + z * small_s / math.sqrt(N_small)]"
   ]
  },
  {
   "cell_type": "code",
   "execution_count": 16,
   "metadata": {},
   "outputs": [
    {
     "data": {
      "text/plain": [
       "[58.68120995545299, 63.59879004454701]"
      ]
     },
     "execution_count": 16,
     "metadata": {},
     "output_type": "execute_result"
    }
   ],
   "source": [
    "# For N small, we must use Chi squared and t-distribution. These only apply for when\n",
    "# the population distribution is about or is normal\n",
    "# Now if your n is small, but you have the population stdev, you can use the above procedure. Else, use the t-distribution\n",
    "# You have this pivot for the T-value: (X_bar - mu)/(s/sqrt(n)) ~ T(n - 1). You can then derive:\n",
    "# mu in [X_bar - t_alpha/2,n-1 * s/sqrt(n), X_bar + t_alpha/2,n-1 * s/sqrt(n)]\n",
    "T = t.ppf(1 - alpha / 2, N_small - 1)\n",
    "[small_X_bar - T * small_s / math.sqrt(N_small), small_X_bar + T * small_s / math.sqrt(N_small)]"
   ]
  },
  {
   "cell_type": "code",
   "execution_count": 17,
   "metadata": {},
   "outputs": [
    {
     "data": {
      "text/plain": [
       "[10.566673647196849, 49.03247998707105]"
      ]
     },
     "execution_count": 17,
     "metadata": {},
     "output_type": "execute_result"
    }
   ],
   "source": [
    "# For N small, variance is in particular strange. At large N, since variance is also a sum\n",
    "# the CLT applies, but because it's hard to find variance of variance, it's annoying to do Gaussian pivots,\n",
    "# so it's best to resort to the Chi-squared distribution. When N is small, \n",
    "# variance is approximately the Chi Squared function. \n",
    "# If you don't know both mu and stdev of population, you must use this for interval estimation,\n",
    "# but even if you knew mu, you'd still have to use this.\n",
    "# You get the pivot: (n-1)s^2/stdev^2 which gives you the formula\n",
    "# [(n-1)s^2/chi-squared_1 - alpha/2,n-1, (n-1)s^2/chi-squared_alpha/2,n-1] as a confidence interval for \n",
    "# variance\n",
    "Y_upper = chi2.ppf(1 - alpha / 2, N_small - 1)\n",
    "Y_lower = chi2.ppf(alpha/2, N_small - 1)\n",
    "[(N_small-1) * small_s**2 / Y_upper, (N_small-1) * small_s**2 / Y_lower]"
   ]
  },
  {
   "cell_type": "markdown",
   "metadata": {},
   "source": [
    "## Null Hypothesis Significance Testing\n",
    "Remember the null hypothesis is the one with the equality\n",
    "\n",
    "While this focuses on significance of a statistic to the mean, we can also do either paired or between\n",
    "individually random samples. For paired, its simple, you simply subtract values and use the variance of\n",
    "the difference. For individually random samples, the test statistic is\n",
    "(X_bar_1 - X_bar_2)/sqrt(s_1^2/n_1 + s_2^2/n_2). This is used in A/B testing. Two sample z-tests exist but\n",
    "the stdev formula is super biased, so t-tests are almost exclusively used for two samples. Of course, you \n",
    "need data that is roughly normal, although I'm sure at high enough samples, the two sample t-test is still\n",
    "valid. If you have more than 2 groups, ANOVA, Tukey-Kramer, ANOM, and Dunnett's test are all good options.\n",
    "\n",
    "If you don't have normal data, or your sample size is too small to have normality tests conducted on it,\n",
    "you may have to resort to nonparametric methods.\n",
    "\n",
    "Since in practice, the stdev of the population is unknown, the statistic is only distributed according to the\n",
    "t-distribution. The recommendation to use the normal on n > 30 only applied when it was difficult to perform \n",
    "t-tests by hand, but now, you should almost always use t-tests.\n",
    "\n",
    "Other things you can do: given a sample proportion p_hat, you can do a Z-test on the statistic:\n",
    "p_hat - p/ sqrt(p(1-p)/n). This is based on binomial distributions, so have np and n(1-p) > 10 respectively,\n",
    "to be able to use the approximate normal distribution. Otherwise, this does not really apply. SRS sampling\n",
    "is necessary, and it actually can't be more than 10% of the population size since that meses with independence\n",
    "(apparently some more advanced methods exist for this however).\n",
    "\n",
    "To use the T-distribution, on N >= 40, no assumptions need to be made about the population distribution.\n",
    "On 15 < N < 40, sample should show no extreme values and little, if any, skewness; or you can assume the \n",
    "population distribution is normal. For N <= 15, sample should contain no outliers and no skewness, or assume\n",
    "parent distribution is normal.\n",
    "\n",
    "Standard errors: of a proportion p_hat, we have SE(p_hat) = sqrt(p_hat (1-p_hat)/n), of a mean, SE(X_bar) = s /sqrt(n)\n",
    "\n",
    "### Fisherian P-Value Method\n",
    "The idea here is to take your null hypothesis and see if you can reject it. When you take your test, you get to be able to say your results were statistically significant or not, but if it's not, you can't say that the null hypothesis is wrong, rather you don't have the evidence enough for it yet. This is arguably more used today, and is the p-value method in some people's textbooks. It can reject hypotheses by contradiction, but not prove/accept them without more evidence. H_0 is the hypothesis you wanna disprove. H_1 is your alternative hypothesis. In Fisher, you don't really need the alternative hypothesis or need to accept it, you can only say if you have a significant result or not. Usually, you say you fail to reject the null.\n",
    "\n",
    "Of course in Significance testing, you choose a cutoff alpha level, but the P-value is the lowest alpha for which you can reject your null hypothesis"
   ]
  },
  {
   "cell_type": "code",
   "execution_count": 18,
   "metadata": {},
   "outputs": [
    {
     "name": "stdout",
     "output_type": "stream",
     "text": [
      "0.12539486930124105 0.05\n"
     ]
    }
   ],
   "source": [
    "# One-sided test (lower tail)\n",
    "# H_0: mu >= mu_0 (remember we want to reject this)\n",
    "# H_1: mu < mu_0\n",
    "# Of course use S if you don't know population stdev. Mu_0, your hypothesized\n",
    "# value is always a given\n",
    "# The test statistic is:\n",
    "# W = (X_bar - mu_0) / (S/sqrt(n))\n",
    "# for large N (CLT applies), use the acceptance region W >= z_alpha (opposite for other sided tail)\n",
    "# Else, if you have a small N, and your population is normal, \n",
    "# do a t-test. (W <= t_alpha,n-1)\n",
    "mu_0 = 62.68 # we have omniscience here, it's kinda a guess in real life\n",
    "W = (X_bar - mu_0) / (s / math.sqrt(N)) \n",
    "p = norm.cdf(W)\n",
    "print(p, alpha) # In this case, we do not have a significant result, we don't have the evidence to reject"
   ]
  },
  {
   "cell_type": "code",
   "execution_count": 19,
   "metadata": {},
   "outputs": [
    {
     "name": "stdout",
     "output_type": "stream",
     "text": [
      "0.2507897386024821 0.05\n"
     ]
    }
   ],
   "source": [
    "# Two-sided test\n",
    "# H_0: mu = mu_0 (remember we want to reject this)\n",
    "# H_1: mu != mu_0\n",
    "W = (X_bar - mu_0) / (s / math.sqrt(N)) \n",
    "p = 2 * norm.cdf(-abs(W))\n",
    "print(p, alpha) # Again failed to reject. This is a good sign, our sample mean is pretty close. \n",
    "# Under Fisherian assumptions however, this just means we can't say anything meaningful"
   ]
  },
  {
   "cell_type": "markdown",
   "metadata": {},
   "source": [
    "### Neyman-Pearson (traditional) method\n",
    "In this case, when you reject your null hypothesis, you MUST accept the other hypothesis.\n",
    "In most intro statistics classes, these are hybridized, and so you accept the other hypothesis\n",
    "when the p-value rejects it, but this way is more clear. You choose your cutoff and then look at\n",
    "whether or not the test statistic is in the acceptance region. In this paradigm, your null can\n",
    "really be anything (it technically works in Fisher too, but you need to do a little math magic)\n",
    "\n",
    "You basically use your alpha to obtain a value c, known as the critical value, and compare the\n",
    "statistic to c. The picture is regions of acceptance and rejection, so ideally check yourself\n",
    "as you do it."
   ]
  },
  {
   "cell_type": "code",
   "execution_count": 20,
   "metadata": {},
   "outputs": [
    {
     "name": "stdout",
     "output_type": "stream",
     "text": [
      "-1.1484332873099428 -1.6448536269514729\n"
     ]
    }
   ],
   "source": [
    "# One-sided test\n",
    "# H_0: mu >= mu_0 (remember we want to reject this)\n",
    "# H_1: mu != mu_0\n",
    "# Of course use S if you don't know population stdev. Mu_0, your hypothesized\n",
    "# value is always a given\n",
    "# The test statistic is:\n",
    "# W = (X_bar - mu_0) / (S/sqrt(n))\n",
    "# for large N (CLT applies), use the acceptance region W >= -z_alpha (opposite for other sided tail)\n",
    "# Else, if you have a small N, and your population is normal, \n",
    "# do a t-test. (W <= t_alpha,n-1)\n",
    "mu_0 = 62.68 # we have omniscience here, it's kinda a guess in real life\n",
    "W = (X_bar - mu_0) / (s / math.sqrt(N))\n",
    "c = norm.ppf(alpha)\n",
    "print(W, c) # In this case, we do not have a significant result, so we accept the null. This makes sense,\n",
    "# as the mean really IS "
   ]
  },
  {
   "cell_type": "code",
   "execution_count": 21,
   "metadata": {},
   "outputs": [
    {
     "name": "stdout",
     "output_type": "stream",
     "text": [
      "1.1484332873099428 1.959963984540054\n"
     ]
    }
   ],
   "source": [
    "# Two-sided test\n",
    "# H_0: mu = mu_0 (remember we want to reject this)\n",
    "# H_1: mu != mu_0\n",
    "W = (X_bar - mu_0) / (s / math.sqrt(N)) \n",
    "c = norm.ppf(1 - alpha / 2)\n",
    "print(abs(W), c) # Again we accept. Statistics is working!"
   ]
  },
  {
   "cell_type": "markdown",
   "metadata": {},
   "source": [
    "## Neyman-Pearson (Hypothesis Testing) vs. Fisher (Significance Testing)\n",
    "This debate has not ever been settled and is why Statistics is so confusing. Basically, both \n",
    "methodologies should yield the same results, though extreme edge cases may differ. The idea\n",
    "is that Fisher is more philosophically sound, while Neyman-Pearson is more mathematically\n",
    "sound. Pick your poison, but Fisher is used more in science, especially, though p values\n",
    "come with their misunderstandings and confusions.\n",
    "\n",
    "### Power and P Values\n",
    "Before we discuss P Value misunderstandings, we must talk about type I and type II errors and power.\n",
    "A type I error is rejecting H_0 when it is true. Type II is accepting H_0 when it is false. If \n",
    "P(making type I error) <= alpha then we have a test of significance level alpha. We also have beta,\n",
    "which is equal to P(making type II error). The Power of a test is defined as 1-beta. The power is \n",
    "equivalently the probability of getting a true positive result. Thus, we seek to maximize power.\n",
    "In experiment design, power is usually made to be 80% or greater (so beta <= 20). Power analysis\n",
    "is ideally done before experiementation, and can do things like getting the minimum sample number.\n",
    "Power analysis basically gives you minimum numbers as in sample size, but it can do so in\n",
    "significance level and power effect size as well. There is always a trade off between power\n",
    "and alpha. Sample size can increase power with increasing size. Small effect size means less\n",
    "power, bigger effect size means more power.\n",
    "Minimum value of power is alpha. You basically have to choose a minimum beta to use to calculate\n",
    "power. (manipulate the probability into a pivot, by subtracting and adding the true statistic, like mean,\n",
    "and then assuming the alternative is true). It can be used to usually find the minimum sample number.\n",
    "Note: this current setting is frequentist, but Bayesian may be more appropriate here.\n",
    " \n",
    "Based on The Fickle P Value Generates Irreproducible Results:\n",
    "A p value is not good enough alone for research. High enough power is arguably more important, as without\n",
    "sufficient power, your p value is not useful enough. (you won't get a false positive, but you may get a \n",
    "false negative). In fact, unless power is high, the p-value itself fluctuates a lot.\n",
    "\n",
    "'In the real world, the power of a study is not\n",
    "known; at best it can be estimated.'\n",
    "\n",
    "Power is a meausure of the repeatability of the p value, so 80% power means about 80% of the time it shall\n",
    "be deemed significant.\n",
    "\n",
    "In Fisher's original development of P-value analysis, his idea was that the lower the p value, the greater\n",
    "reason to doubt the null. He in fact, wanted people to use the p value as a continuous variable to help\n",
    "judgement (though not to determine it).\n",
    "\n",
    "Even with 90% power, though, P-values vary by A LOT. Let's say you obtain a P-value of 0.03. A repeat could\n",
    "give you p values anywhere between 0 and 0.6, and the chance of p < 0.05 is just 56%. This is argument \n",
    "against low power of 80% (which is standard due to our perception that false negative are much more\n",
    "acceptable compared to false positive)\n",
    "\n",
    "'Most scientific studies have much\n",
    "less than 80% power, often around 50%\n",
    "in psychological research and averaging 21% in neuroscience'\n",
    "\n",
    "'We must consider alternative methods of\n",
    "statistical interpretation that could be used.\n",
    "Several options are available, and although\n",
    "no one approach is perfect, perhaps the\n",
    "most intuitive and tractable is to report\n",
    "effect size estimates and their precision\n",
    "(95% confidence intervals)'\n",
    "\n",
    "'When interpreting data, many scientists\n",
    "appreciate that an estimate of effect size is\n",
    "relevant only within the context of a specific\n",
    "study. We should take this further and not\n",
    "only include effect sizes and their 95% CIs\n",
    "in analyses but also focus our attention on\n",
    "these values and discount the fickle P value.'\n",
    "\n",
    "'Power analysis can be replaced with\n",
    "‘planning for precision’, which calculates\n",
    "the sample size required for estimating the\n",
    "effect size to reach a defined degree of precision'\n",
    "\n",
    "Also, if sample size grows too large, significance tests are likely to even detect tiny variations (overfitting?)"
   ]
  },
  {
   "cell_type": "markdown",
   "metadata": {},
   "source": [
    "# Bivariate Data\n",
    "\n",
    "## Exploratory Statistics\n",
    "Graph with a scatterplot, effect is always on y, independent variable on x.  We measure effect/correlation with the Pearson's correlation coefficient or R for a population:\n",
    "R = Cov(X, Y)/ (sigma_X * sigma_Y).\n",
    "for a sample, it's basically this but times 1/ (n-1) to correct bias. Since correlation relies on mean and stdev,\n",
    "it will fluctuate based on outliers.\n",
    "\n",
    "The R^2 is the coefficient of determination is the percentage of variation in y that is explained by variation in x.\n",
    "Must interpret R^2 in context of problem. Fo scientific experiments, R^2 of 90% or greater is standard. Observational\n",
    "studies can be informative in the 10-20% range however.\n",
    "\n",
    "Of course, the line of best fit is done by least squares, which can be extended for many nonlinear relationships that are\n",
    "linear in the coefficients. Key thing is that the plot of residuals is normally distributed to have a good fit.\n",
    "\n",
    "Clusters and outliers are important to note"
   ]
  },
  {
   "cell_type": "code",
   "execution_count": 30,
   "metadata": {},
   "outputs": [
    {
     "data": {
      "text/plain": [
       "<matplotlib.collections.PathCollection at 0x546f98a550>"
      ]
     },
     "execution_count": 30,
     "metadata": {},
     "output_type": "execute_result"
    },
    {
     "data": {
      "image/png": "[encoded data removed]",
      "text/plain": [
       "<Figure size 432x288 with 1 Axes>"
      ]
     },
     "metadata": {
      "needs_background": "light"
     },
     "output_type": "display_data"
    }
   ],
   "source": [
    "effect = [(x - mu)**2/ 4 + rand.gauss(0, 1.5) for x in sample]\n",
    "plt.scatter(sample, effect)"
   ]
  },
  {
   "cell_type": "code",
   "execution_count": 40,
   "metadata": {},
   "outputs": [
    {
     "name": "stdout",
     "output_type": "stream",
     "text": [
      "[[ 2.64059023e-01]\n",
      " [-3.30516120e+01]\n",
      " [ 1.03412932e+03]]\n",
      "[0.017738098997824636, 1.645081879985355, 10.085955178208906, 2.7296412798039, -0.1158723637734056, -0.017447340459966654, 3.8652296604609546, -0.04735159945744272, 0.017738098997824636, 0.31745359731894496, 6.007437493181669, 37.80391215158784, 0.9214255752399367, 0.04448045547314905, -0.0964631748620377, 10.983083714839836, -0.05592926410918153, 2.233143025690424, 7.254301146452235, -0.07197467799437618, 7.535986534619042, 2.7296412798039, 4.5763721700798214, 3.7279522305539103, 1.645081879985355, 0.8518954484038659, 6.526708711232004, 3.529050196823164, -0.0964631748620377, -0.017447340459966654, -0.017447340459966654, 4.5763721700798214, -0.10537729368707005, 3.147089670743526, 0.017738098997824636, 8.1152008523336, 0.7224562506748953, 0.8518954484038659, -0.10880835954776558, 12.150762156559722, 37.80391215158784, 1.6896857361741695, 2.127956423553769, 42.36348829435565, 3.529050196823164, 0.31745359731894496, 5.190940537693223, -0.04735159945744272, 1.0648581997502333, 1.5112695447101032]\n"
     ]
    },
    {
     "data": {
      "text/plain": [
       "[<matplotlib.lines.Line2D at 0x54700bea00>]"
      ]
     },
     "execution_count": 40,
     "metadata": {},
     "output_type": "execute_result"
    },
    {
     "data": {
      "image/png": "[encoded data removed]",
      "text/plain": [
       "<Figure size 432x288 with 1 Axes>"
      ]
     },
     "metadata": {
      "needs_background": "light"
     },
     "output_type": "display_data"
    }
   ],
   "source": [
    "# In this case we don't have a linear relationship. It seems to be quadratic.\n",
    "# We can however perform least squares to fit this: Ax = b => x=(A^T*A)^-1A^T * b\n",
    "A = np.asmatrix([[x**2, x, 1] for x in sample])\n",
    "b = np.asmatrix(effect)\n",
    "b = np.reshape(b, (50, 1))\n",
    "coeff = np.linalg.inv(A.T*A) * A.T * b\n",
    "sample.sort()\n",
    "quad = [coeff[0].item()* x **2 + coeff[1].item() * x + coeff[2].item() for x in sample]\n",
    "print(quad)\n",
    "plt.plot(sample, quad)"
   ]
  },
  {
   "cell_type": "code",
   "execution_count": 11,
   "metadata": {},
   "outputs": [],
   "source": [
    "#TODO:\n",
    "# Regression significance testing\n",
    "# Cohen's d, eta squared Chi-squared tests, regression stuff, look at Barron's. \n",
    "# Effect size, sample size, significance level, and power level are the four parts to doing statistics\n",
    "# do a power analysis section\n",
    "\n",
    "#TODO in other jupyter notebooks:\n",
    "# Bayesian Statistics, Generalized Linear Model, Nonparametric Statistics and robust methods for modelling, \n",
    "# Causal Inference: https://www.ucbbiostat.com/\n",
    "# Decision theory: https://data102.org/, game theory: https://bcourses.berkeley.edu/courses/1454200/assignments/syllabus, \n",
    "# Sampling + Large Sampling theory + Monte Carlo and stuff, theoretical statistics: STAT 210\n",
    "# Experiment design: http://statweb.stanford.edu/~owen/courses/363/"
   ]
  },
  {
   "cell_type": "code",
   "execution_count": null,
   "metadata": {},
   "outputs": [],
   "source": []
  }
 ],
 "metadata": {
  "kernelspec": {
   "display_name": "Python 3",
   "language": "python",
   "name": "python3"
  },
  "language_info": {
   "codemirror_mode": {
    "name": "ipython",
    "version": 3
   },
   "file_extension": ".py",
   "mimetype": "text/x-python",
   "name": "python",
   "nbconvert_exporter": "python",
   "pygments_lexer": "ipython3",
   "version": "3.8.8"
  }
 },
 "nbformat": 4,
 "nbformat_minor": 2
}
